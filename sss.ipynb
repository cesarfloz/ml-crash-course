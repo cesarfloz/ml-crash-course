{
 "cells": [
  {
   "cell_type": "markdown",
   "metadata": {},
   "source": [
    "## Framing: Terminología clave de ML\n",
    "\n",
    "En pocas palabras el ML supervisado son sistemas que aprenden a combinar la entrada para producir predicciones utiles en datos nunca antes vistos\n",
    "\n",
    "### Labels - Etiquetas\n",
    "\n",
    "Una etiqueta es lo que estamos prediciendo, ejm: la variable en la regresion lineal simple. Puede ser el tipo de animal que se muestra en la imagen, la prediccion del precio del cafe, etc.\n",
    "\n",
    "### Features - Funcion o caracteristica\n",
    "\n",
    "Una funcion o caracterisica es una variable de entrada. Un proyecto de Machine Learning simple podria usar una sola caracteristica, uno mas sofisticado puede usar millones de caracteristicas:\n",
    "```\n",
    "x1, x2, x3,...xN\n",
    "```\n",
    "En el ejemplo clasico del detector de correos spam, las caracteristicas podrian incluir:\n",
    "- palabras en el texto del correo electrónico\n",
    "- dirección del remitente\n",
    "- hora del día en que se envió el correo electrónico\n",
    "- el correo electrónico contiene la frase \"un truco extraño\"."
   ]
  },
  {
   "cell_type": "markdown",
   "metadata": {},
   "source": [
    "|"
   ]
  }
 ],
 "metadata": {
  "language_info": {
   "name": "python"
  },
  "orig_nbformat": 4
 },
 "nbformat": 4,
 "nbformat_minor": 2
}
